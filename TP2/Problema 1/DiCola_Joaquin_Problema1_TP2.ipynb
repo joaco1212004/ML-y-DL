{
 "cells": [
  {
   "cell_type": "code",
   "execution_count": 5,
   "id": "2013a8b0",
   "metadata": {},
   "outputs": [],
   "source": [
    "import pandas as pd\n",
    "import numpy as np\n",
    "import matplotlib.pyplot as plt"
   ]
  },
  {
   "cell_type": "code",
   "execution_count": null,
   "id": "815d8a0c",
   "metadata": {},
   "outputs": [],
   "source": [
    "df = pd.read_csv('data/raw/cell_diagnosis_balanced_dev.csv')\n",
    "df.info()"
   ]
  }
 ],
 "metadata": {
  "kernelspec": {
   "display_name": "ML-y-DL",
   "language": "python",
   "name": "python3"
  },
  "language_info": {
   "codemirror_mode": {
    "name": "ipython",
    "version": 3
   },
   "file_extension": ".py",
   "mimetype": "text/x-python",
   "name": "python",
   "nbconvert_exporter": "python",
   "pygments_lexer": "ipython3",
   "version": "3.12.3"
  }
 },
 "nbformat": 4,
 "nbformat_minor": 5
}
